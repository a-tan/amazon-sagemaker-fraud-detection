{
 "cells": [
  {
   "cell_type": "markdown",
   "id": "ceaaea25",
   "metadata": {},
   "source": [
    "# SageMaker Real-Time Inference vs Serverless Inference comparison\n",
    "## XGBoost Regression Example\n",
    "\n",
    "For this notebook we'll be working with the SageMaker XGBoost Algorithm to train a model and then deploy a serverless endpoint. We will be using the public S3 Abalone regression dataset for this example.\n",
    "\n",
    "<b>Notebook Setting</b>\n",
    "- <b>SageMaker Classic Notebook Instance</b>: ml.m5.xlarge Notebook Instance & conda_python3 Kernel\n",
    "- <b>SageMaker Studio</b>: Python 3 (Data Science)\n"
   ]
  },
  {
   "cell_type": "markdown",
   "id": "0ba21b56",
   "metadata": {},
   "source": [
    "## Table of Contents\n",
    "- Setup\n",
    "- Model upload\n",
    "- Deployment of real-time inference endpoint using SageMaker SDK \n",
    "    - Model Creation\n",
    "    - Endpoint Deployment\n",
    "    - Endpoint Invocation\n",
    "    - Endpoint Latency Distribution Analysis\n",
    "- Deployment of real-time inference endpoint using Boto3  \n",
    "    - Model Creation\n",
    "    - Endpoint Configuration\n",
    "    - Endpoint Deployment\n",
    "- Cleanup"
   ]
  },
  {
   "cell_type": "markdown",
   "id": "c11668bb",
   "metadata": {},
   "source": [
    "![Hosting_1](notebook_images/Hosting_overview_1.png)"
   ]
  },
  {
   "cell_type": "markdown",
   "id": "5bf33802",
   "metadata": {},
   "source": [
    "![Hosting_2](notebook_images/Hosting_options.png)"
   ]
  },
  {
   "cell_type": "markdown",
   "id": "3a97917f",
   "metadata": {},
   "source": [
    "![Hosting_3](notebook_images/Hosting_RealTime_generic.png)"
   ]
  },
  {
   "cell_type": "markdown",
   "id": "5ae8dab2",
   "metadata": {},
   "source": [
    "![Hosting_4](notebook_images/Hosting_RealTime_SingleModel.png)"
   ]
  },
  {
   "cell_type": "markdown",
   "id": "4a98bfbe",
   "metadata": {},
   "source": [
    "## Setup\n",
    "\n",
    "For testing you need to properly configure your Notebook Role to have <b>SageMaker Full Access</b>."
   ]
  },
  {
   "cell_type": "markdown",
   "id": "78a86ea3",
   "metadata": {},
   "source": [
    "Let's start by installing preview wheels of the Python SDK, boto and aws cli"
   ]
  },
  {
   "cell_type": "code",
   "execution_count": 21,
   "id": "b1be833c",
   "metadata": {},
   "outputs": [],
   "source": [
    "#! pip install sagemaker botocore boto3 awscli --upgrade"
   ]
  },
  {
   "cell_type": "code",
   "execution_count": 22,
   "id": "c6455fbc",
   "metadata": {},
   "outputs": [],
   "source": [
    "# Setup clients\n",
    "import boto3\n",
    "\n",
    "client = boto3.client(service_name=\"sagemaker\")\n",
    "runtime = boto3.client(service_name=\"sagemaker-runtime\")"
   ]
  },
  {
   "cell_type": "markdown",
   "id": "90c63e05",
   "metadata": {},
   "source": [
    "### SageMaker Setup\n",
    "To begin, we import the AWS SDK for Python (Boto3) and set up our environment, including an IAM role and an S3 bucket to store our data."
   ]
  },
  {
   "cell_type": "code",
   "execution_count": 23,
   "id": "c4111ca2",
   "metadata": {},
   "outputs": [
    {
     "name": "stdout",
     "output_type": "stream",
     "text": [
      "us-west-2\n",
      "arn:aws:iam::328296961357:role/service-role/AmazonSageMaker-ExecutionRole-20191125T182032\n"
     ]
    }
   ],
   "source": [
    "import boto3\n",
    "import sagemaker\n",
    "from sagemaker.estimator import Estimator\n",
    "import os\n",
    "#from os.path import join\n",
    "\n",
    "boto_session = boto3.session.Session()\n",
    "region = boto_session.region_name\n",
    "print(region)\n",
    "\n",
    "sagemaker_session = sagemaker.Session()\n",
    "base_job_prefix = \"xgboost-example\"\n",
    "role = sagemaker.get_execution_role()\n",
    "print(role)\n",
    "\n",
    "default_bucket = sagemaker_session.default_bucket()\n",
    "s3_prefix = base_job_prefix"
   ]
  },
  {
   "cell_type": "markdown",
   "id": "8e20e41e",
   "metadata": {},
   "source": [
    "#### We are not going to run through model training steps, but rather use an already-trained model. The XGBoost model used in ths example was trained on a publicly-available \"abalone\" dataset."
   ]
  },
  {
   "cell_type": "code",
   "execution_count": 24,
   "id": "21233764",
   "metadata": {},
   "outputs": [],
   "source": [
    "# retrieve data\n",
    "#! curl https://sagemaker-sample-files.s3.amazonaws.com/datasets/tabular/uci_abalone/train_csv/abalone_dataset1_train.csv > abalone_dataset1_train.csv"
   ]
  },
  {
   "cell_type": "markdown",
   "id": "089d1cce",
   "metadata": {},
   "source": [
    "## Model Deployment"
   ]
  },
  {
   "cell_type": "code",
   "execution_count": 25,
   "id": "aa2676e1",
   "metadata": {},
   "outputs": [],
   "source": [
    "#upload model to S3 bucket.\n",
    "#SageMaker Model class accepts an S3 URI as input for model.tar.gz file, thus we need to upload the model to S3.\n",
    "#https://sagemaker.readthedocs.io/en/stable/api/inference/model.html#sagemaker.model.Model\n",
    "s3_prefix = os.path.join(base_job_prefix, \"xgb_model\")\n",
    "s3_model_path=sagemaker_session.upload_data(path=\"model\", bucket=default_bucket, key_prefix=s3_prefix)\n",
    "model_artifacts=os.path.join(s3_model_path, \"model.tar.gz\")\n"
   ]
  },
  {
   "cell_type": "markdown",
   "id": "4d750d02",
   "metadata": {},
   "source": [
    "### Creating and Deploying a Model using SageMaker Python SDK\n",
    "Create a model by providing your model artifacts, the container image URI, environment variables for the container (if applicable), a model name, and the SageMaker IAM role."
   ]
  },
  {
   "cell_type": "code",
   "execution_count": 26,
   "id": "80b5f6ab",
   "metadata": {},
   "outputs": [
    {
     "name": "stdout",
     "output_type": "stream",
     "text": [
      "246618743249.dkr.ecr.us-west-2.amazonaws.com/sagemaker-xgboost:1.0-1-cpu-py3\n"
     ]
    }
   ],
   "source": [
    "from sagemaker import model\n",
    "\n",
    "# retrieve xgboost docker container image from AWA ECR (Elastic Container Registry)\n",
    "image_uri = sagemaker.image_uris.retrieve(\n",
    "    framework=\"xgboost\",\n",
    "    region=region,\n",
    "    version=\"1.0-1\",\n",
    "    py_version=\"py3\"\n",
    ")\n",
    "\n",
    "print(image_uri)\n",
    "\n",
    "#Initialize SageMaker model.\n",
    "inference_model = model.Model(\n",
    "    image_uri=image_uri, \n",
    "    model_data=model_artifacts,\n",
    "    role=role,\n",
    "    sagemaker_session=sagemaker_session,\n",
    "#    vpc_config = vpc_confg,\n",
    "#    enable_network_isolation = False,\n",
    "#    model_kms_key=model_kms_key,\n",
    ")"
   ]
  },
  {
   "cell_type": "code",
   "execution_count": 27,
   "id": "75b0c6bd",
   "metadata": {},
   "outputs": [
    {
     "name": "stdout",
     "output_type": "stream",
     "text": [
      "------!CPU times: user 95.6 ms, sys: 6.21 ms, total: 102 ms\n",
      "Wall time: 3min 1s\n"
     ]
    }
   ],
   "source": [
    "%%time\n",
    "#Deploy SageMaker model on an endpoint.\n",
    "from time import gmtime, strftime\n",
    "realtime_endpoint_name = \"xgboost-ep-sdk-\" + strftime(\"%Y-%m-%d-%H-%M-%S\", gmtime())\n",
    "predictor_sdk=inference_model.deploy(\n",
    "    initial_instance_count = 1,\n",
    "    instance_type='ml.c4.xlarge',\n",
    "    endpoint_name=realtime_endpoint_name,\n",
    "#    serializer,\n",
    "#    deserializer,\n",
    "#    kms_key=None,\n",
    "#    wait=True,\n",
    "    )"
   ]
  },
  {
   "cell_type": "markdown",
   "id": "97a649ab",
   "metadata": {},
   "source": [
    "#### Invoking the endpoint."
   ]
  },
  {
   "cell_type": "code",
   "execution_count": 28,
   "id": "a037ab60",
   "metadata": {},
   "outputs": [
    {
     "name": "stdout",
     "output_type": "stream",
     "text": [
      "b'4.566554546356201'\n"
     ]
    }
   ],
   "source": [
    "realtime_response_sdk = runtime.invoke_endpoint(\n",
    "    EndpointName=realtime_endpoint_name,\n",
    "    Body=b\".345,0.224414,.131102,0.042329,.279923,-0.110329,-0.099358,0.0\",\n",
    "    ContentType=\"text/csv\",\n",
    ")\n",
    "\n",
    "print(realtime_response_sdk[\"Body\"].read())"
   ]
  },
  {
   "cell_type": "markdown",
   "id": "090704fa",
   "metadata": {},
   "source": [
    "#### Let us define a helper function to get a histogram of invocation latency distribution"
   ]
  },
  {
   "cell_type": "code",
   "execution_count": 29,
   "id": "aeb1e2cf",
   "metadata": {},
   "outputs": [],
   "source": [
    "import matplotlib.pyplot as plt\n",
    "import time\n",
    "import numpy as np\n",
    "\n",
    "def _latency_hist_plot(endpoint_name, invocation_number=100):\n",
    "    latency_array = []\n",
    "    for i in range(invocation_number):\n",
    "        tic = time.time()\n",
    "        response_ = runtime.invoke_endpoint(\n",
    "            EndpointName=endpoint_name,\n",
    "            Body=b\".345,0.224414,.131102,0.042329,.279923,-0.110329,-0.099358,0.0\",\n",
    "            ContentType=\"text/csv\")\n",
    "        toc = time.time()\n",
    "        latency_array.append(toc-tic)\n",
    "        \n",
    "    latency_array_np = np.array(latency_array)\n",
    "    _ = plt.hist(latency_array_np, bins='auto')  # arguments are passed to np.histogram\n",
    "    plt.title(\"Invocation Latency Histogram with 'auto' bins\")\n",
    "    plt.show()"
   ]
  },
  {
   "cell_type": "code",
   "execution_count": 38,
   "id": "2c8e3703",
   "metadata": {},
   "outputs": [
    {
     "data": {
      "image/png": "[encoded data removed]",
      "text/plain": [
       "<Figure size 432x288 with 1 Axes>"
      ]
     },
     "metadata": {
      "needs_background": "light"
     },
     "output_type": "display_data"
    },
    {
     "name": "stdout",
     "output_type": "stream",
     "text": [
      "CPU times: user 2.29 s, sys: 70.3 ms, total: 2.36 s\n",
      "Wall time: 8.74 s\n"
     ]
    }
   ],
   "source": [
    "%%time\n",
    "invocation_number = 200\n",
    "# Real-time endpoint\n",
    "_latency_hist_plot(realtime_endpoint_name, invocation_number)"
   ]
  },
  {
   "cell_type": "markdown",
   "id": "2ff61303",
   "metadata": {},
   "source": [
    "### Creating and Deploying the same model via Boto3 SDK\n",
    "Create a model by providing your model artifacts, the container image URI, environment variables for the container (if applicable), a model name, and the SageMaker IAM role."
   ]
  },
  {
   "cell_type": "code",
   "execution_count": 39,
   "id": "5d2b0a35",
   "metadata": {},
   "outputs": [
    {
     "name": "stdout",
     "output_type": "stream",
     "text": [
      "Model name: xgboost-serverless-2022-01-28-03-40-47\n",
      "Model Arn: arn:aws:sagemaker:us-west-2:328296961357:model/xgboost-serverless-2022-01-28-03-40-47\n"
     ]
    }
   ],
   "source": [
    "from time import gmtime, strftime\n",
    "\n",
    "boto3_model_name = \"xgboost-serverless-\" + strftime(\"%Y-%m-%d-%H-%M-%S\", gmtime())\n",
    "print(\"Model name: \" + boto3_model_name)\n",
    "\n",
    "# dummy environment variables\n",
    "byo_container_env_vars = {\"SAGEMAKER_CONTAINER_LOG_LEVEL\": \"20\", \"SOME_ENV_VAR\": \"myEnvVar\"}\n",
    "\n",
    "create_model_response = client.create_model(\n",
    "    ModelName=boto3_model_name,\n",
    "    Containers=[\n",
    "        {\n",
    "            \"Image\": image_uri,\n",
    "            \"Mode\": \"SingleModel\",\n",
    "            \"ModelDataUrl\": model_artifacts,\n",
    "            \"Environment\": byo_container_env_vars,\n",
    "        }\n",
    "    ],\n",
    "    ExecutionRoleArn=role,\n",
    "#    VpcConfig = vpc_config\n",
    ")\n",
    "\n",
    "print(\"Model Arn: \" + create_model_response[\"ModelArn\"])"
   ]
  },
  {
   "cell_type": "markdown",
   "id": "7d1414b4",
   "metadata": {},
   "source": [
    "### Creating boto3 Endpoint Configuration "
   ]
  },
  {
   "cell_type": "code",
   "execution_count": 40,
   "id": "971c3990",
   "metadata": {},
   "outputs": [
    {
     "name": "stdout",
     "output_type": "stream",
     "text": [
      "Endpoint Configuration Arn: arn:aws:sagemaker:us-west-2:328296961357:endpoint-config/xgboost-boto3-epc-2022-01-28-03-40-47\n"
     ]
    }
   ],
   "source": [
    "xgboost_boto3_epc_name = \"xgboost-boto3-epc-\" + strftime(\"%Y-%m-%d-%H-%M-%S\", gmtime())\n",
    "\n",
    "boto3_ep_config_response = client.create_endpoint_config(\n",
    "    EndpointConfigName=xgboost_boto3_epc_name,\n",
    "    ProductionVariants=[\n",
    "        {\n",
    "            \"VariantName\": \"byoVariant\",\n",
    "            \"ModelName\": boto3_model_name,\n",
    "            \"InitialInstanceCount\": 1,\n",
    "            \"InstanceType\": \"ml.c5.4xlarge\"\n",
    "        },\n",
    "    ],\n",
    ")\n",
    "\n",
    "print(\"Endpoint Configuration Arn: \" + boto3_ep_config_response[\"EndpointConfigArn\"])"
   ]
  },
  {
   "cell_type": "markdown",
   "id": "d23039dd",
   "metadata": {},
   "source": [
    "### Creating boto3 Endpoint\n",
    "Now that we have an endpoint configuration, we can create a endpoint and deploy our model to it. When creating the endpoint, provide the name of your endpoint configuration and a name for the new endpoint."
   ]
  },
  {
   "cell_type": "code",
   "execution_count": 41,
   "id": "8e3c202e",
   "metadata": {},
   "outputs": [
    {
     "name": "stdout",
     "output_type": "stream",
     "text": [
      "Endpoint Arn: arn:aws:sagemaker:us-west-2:328296961357:endpoint/xgboost-boto3-ep-2022-01-28-03-40-47\n"
     ]
    }
   ],
   "source": [
    "boto3_endpoint_name = \"xgboost-boto3-ep-\" + strftime(\"%Y-%m-%d-%H-%M-%S\", gmtime())\n",
    "\n",
    "create_boto3_endpoint_response = client.create_endpoint(\n",
    "    EndpointName=boto3_endpoint_name,\n",
    "    EndpointConfigName=xgboost_boto3_epc_name,\n",
    ")\n",
    "\n",
    "print(\"Endpoint Arn: \" + create_boto3_endpoint_response[\"EndpointArn\"])"
   ]
  },
  {
   "cell_type": "markdown",
   "id": "b509cb53",
   "metadata": {},
   "source": [
    "#### Wait until the boto3 endpoint status is InService before invoking the endpoint."
   ]
  },
  {
   "cell_type": "code",
   "execution_count": 42,
   "id": "398ece60",
   "metadata": {},
   "outputs": [
    {
     "name": "stdout",
     "output_type": "stream",
     "text": [
      "Creating\n",
      "Creating\n",
      "Creating\n",
      "Creating\n",
      "Creating\n",
      "Creating\n",
      "Creating\n",
      "Creating\n",
      "InService\n",
      "CPU times: user 105 ms, sys: 7.34 ms, total: 113 ms\n",
      "Wall time: 2min 16s\n"
     ]
    },
    {
     "data": {
      "text/plain": [
       "{'EndpointName': 'xgboost-boto3-ep-2022-01-28-03-40-47',\n",
       " 'EndpointArn': 'arn:aws:sagemaker:us-west-2:328296961357:endpoint/xgboost-boto3-ep-2022-01-28-03-40-47',\n",
       " 'EndpointConfigName': 'xgboost-boto3-epc-2022-01-28-03-40-47',\n",
       " 'ProductionVariants': [{'VariantName': 'byoVariant',\n",
       "   'DeployedImages': [{'SpecifiedImage': '246618743249.dkr.ecr.us-west-2.amazonaws.com/sagemaker-xgboost:1.0-1-cpu-py3',\n",
       "     'ResolvedImage': '246618743249.dkr.ecr.us-west-2.amazonaws.com/sagemaker-xgboost@sha256:04889b02181f14632e19ef6c2a7d74bfe699ff4c7f44669a78834bc90b77fe5a',\n",
       "     'ResolutionTime': datetime.datetime(2022, 1, 28, 3, 40, 49, 857000, tzinfo=tzlocal())}],\n",
       "   'CurrentWeight': 1.0,\n",
       "   'DesiredWeight': 1.0,\n",
       "   'CurrentInstanceCount': 1,\n",
       "   'DesiredInstanceCount': 1}],\n",
       " 'EndpointStatus': 'InService',\n",
       " 'CreationTime': datetime.datetime(2022, 1, 28, 3, 40, 47, 691000, tzinfo=tzlocal()),\n",
       " 'LastModifiedTime': datetime.datetime(2022, 1, 28, 3, 42, 37, 647000, tzinfo=tzlocal()),\n",
       " 'ResponseMetadata': {'RequestId': 'a0ccac9e-3335-4f31-91c9-c3844818a280',\n",
       "  'HTTPStatusCode': 200,\n",
       "  'HTTPHeaders': {'x-amzn-requestid': 'a0ccac9e-3335-4f31-91c9-c3844818a280',\n",
       "   'content-type': 'application/x-amz-json-1.1',\n",
       "   'content-length': '762',\n",
       "   'date': 'Fri, 28 Jan 2022 03:42:48 GMT'},\n",
       "  'RetryAttempts': 0}}"
      ]
     },
     "execution_count": 42,
     "metadata": {},
     "output_type": "execute_result"
    }
   ],
   "source": [
    "%%time\n",
    "# wait for endpoint to reach a terminal state (InService) using describe endpoint\n",
    "import time\n",
    "\n",
    "describe_boto3_endpoint_response = client.describe_endpoint(EndpointName=boto3_endpoint_name)\n",
    "\n",
    "while describe_boto3_endpoint_response[\"EndpointStatus\"] == \"Creating\":\n",
    "    describe_boto3_endpoint_response = client.describe_endpoint(EndpointName=boto3_endpoint_name)\n",
    "    print(describe_boto3_endpoint_response[\"EndpointStatus\"])\n",
    "    time.sleep(15)\n",
    "\n",
    "describe_boto3_endpoint_response"
   ]
  },
  {
   "cell_type": "markdown",
   "id": "66fabd1c",
   "metadata": {},
   "source": [
    "#### Invoking boto3 endpoint is done the same way as for SDK endpoint"
   ]
  },
  {
   "cell_type": "code",
   "execution_count": 43,
   "id": "8c7d1227",
   "metadata": {},
   "outputs": [
    {
     "name": "stdout",
     "output_type": "stream",
     "text": [
      "b'4.566554546356201'\n"
     ]
    }
   ],
   "source": [
    "boto3_response = runtime.invoke_endpoint(\n",
    "    EndpointName=boto3_endpoint_name,\n",
    "    Body=b\".345,0.224414,.131102,0.042329,.279923,-0.110329,-0.099358,0.0\",\n",
    "    ContentType=\"text/csv\",\n",
    ")\n",
    "\n",
    "print(boto3_response[\"Body\"].read())"
   ]
  },
  {
   "cell_type": "markdown",
   "id": "dced15b9",
   "metadata": {},
   "source": [
    "## Clean Up\n",
    "Delete any resources you created in this notebook that you no longer wish to use."
   ]
  },
  {
   "cell_type": "code",
   "execution_count": 44,
   "id": "cc8b8266",
   "metadata": {},
   "outputs": [],
   "source": [
    "#client.delete_model(ModelName=boto3_model_name)\n",
    "#client.delete_endpoint_config(EndpointConfigName=xgboost_boto3_epc_name)\n",
    "#client.delete_endpoint(EndpointName=boto3_endpoint_name)"
   ]
  },
  {
   "cell_type": "code",
   "execution_count": 45,
   "id": "6eb91d83",
   "metadata": {},
   "outputs": [],
   "source": [
    "#inference_model.delete_model()\n",
    "#client.delete_endpoint(EndpointName=realtime_endpoint_name)"
   ]
  },
  {
   "cell_type": "code",
   "execution_count": null,
   "id": "edd1a486",
   "metadata": {},
   "outputs": [],
   "source": []
  }
 ],
 "metadata": {
  "instance_type": "ml.t3.medium",
  "kernelspec": {
   "display_name": "conda_python3",
   "language": "python",
   "name": "conda_python3"
  },
  "language_info": {
   "codemirror_mode": {
    "name": "ipython",
    "version": 3
   },
   "file_extension": ".py",
   "mimetype": "text/x-python",
   "name": "python",
   "nbconvert_exporter": "python",
   "pygments_lexer": "ipython3",
   "version": "3.6.13"
  }
 },
 "nbformat": 4,
 "nbformat_minor": 5
}
