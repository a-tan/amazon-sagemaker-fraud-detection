{
 "cells": [
  {
   "cell_type": "markdown",
   "id": "5304749c",
   "metadata": {},
   "source": [
    "# Welcome to the AutoGluon-Tabular Starter Notebook!\n",
    "\n",
    "This notebook will show you how to get started using AutoGluon in less than 5 minutes, covering local training and deployment to a SageMaker cloud endpoint.\n",
    "\n",
    "For this tutorial, we will be using autogluon==0.3.1\n",
    "\n",
    "## NOTE: Please use conda_python3 Kernel.\n",
    "\n",
    "## Resources:  \n",
    "Documentation: https://auto.gluon.ai/stable/index.html  \n",
    "Tutorials: https://auto.gluon.ai/stable/tutorials/tabular_prediction/index.html  \n",
    "GitHub: https://github.com/awslabs/autogluon/  "
   ]
  },
  {
   "cell_type": "markdown",
   "id": "eab982b7",
   "metadata": {},
   "source": [
    "![AutoGluon-1](notebook_images/AutoGluon-1.png)"
   ]
  },
  {
   "cell_type": "markdown",
   "id": "ebc6e4be",
   "metadata": {},
   "source": [
    "![AutoGluon-2](notebook_images/AutoGluon-2.png)"
   ]
  },
  {
   "cell_type": "markdown",
   "id": "fa1c5f15",
   "metadata": {},
   "source": [
    "![AutoGluon-3](notebook_images/AutoGluon-3.png)"
   ]
  },
  {
   "cell_type": "markdown",
   "id": "8156ea80",
   "metadata": {},
   "source": [
    "![AutoGluon-4](notebook_images/AutoGluon-4.png)"
   ]
  },
  {
   "cell_type": "markdown",
   "id": "1d9825dc",
   "metadata": {},
   "source": [
    "# Local Training with AutoGluon\n",
    "\n",
    "To begin, we first have to install AutoGluon. We can do so with pip. This may take a few minutes:"
   ]
  },
  {
   "cell_type": "code",
   "execution_count": 1,
   "id": "a16749a4",
   "metadata": {
    "scrolled": true
   },
   "outputs": [
    {
     "name": "stdout",
     "output_type": "stream",
     "text": [
      "\u001b[31mERROR: pip's dependency resolver does not currently take into account all the packages that are installed. This behaviour is the source of the following dependency conflicts.\r\n",
      "aiobotocore 1.3.0 requires botocore<1.20.50,>=1.20.49, but you have botocore 1.23.43 which is incompatible.\u001b[0m\r\n"
     ]
    }
   ],
   "source": [
    "# Install CPU torch will speed-up installation because GPU version is larger\n",
    "!pip install -q torch==1.10.1+cpu -f https://download.pytorch.org/whl/cpu/torch_stable.html\n",
    "\n",
    "!pip install -q autogluon==0.3.1"
   ]
  },
  {
   "cell_type": "code",
   "execution_count": 2,
   "id": "67e619f0",
   "metadata": {},
   "outputs": [],
   "source": [
    "from autogluon.tabular import TabularDataset, TabularPredictor"
   ]
  },
  {
   "cell_type": "markdown",
   "id": "a8804849",
   "metadata": {},
   "source": [
    "## Load the data"
   ]
  },
  {
   "cell_type": "code",
   "execution_count": 3,
   "id": "b175d121",
   "metadata": {},
   "outputs": [],
   "source": [
    "# Load the adult income dataset\n",
    "train_data = TabularDataset('data/train.csv')\n",
    "test_data = TabularDataset('data/test.csv')\n",
    "\n",
    "#train_data = TabularDataset('https://autogluon.s3.amazonaws.com/datasets/Inc/train.csv')\n",
    "#test_data = TabularDataset('https://autogluon.s3.amazonaws.com/datasets/Inc/test.csv')\n",
    "label = 'class'"
   ]
  },
  {
   "cell_type": "code",
   "execution_count": 4,
   "id": "26a8cc57",
   "metadata": {
    "scrolled": false
   },
   "outputs": [
    {
     "data": {
      "text/html": [
       "<div>\n",
       "<style scoped>\n",
       "    .dataframe tbody tr th:only-of-type {\n",
       "        vertical-align: middle;\n",
       "    }\n",
       "\n",
       "    .dataframe tbody tr th {\n",
       "        vertical-align: top;\n",
       "    }\n",
       "\n",
       "    .dataframe thead th {\n",
       "        text-align: right;\n",
       "    }\n",
       "</style>\n",
       "<table border=\"1\" class=\"dataframe\">\n",
       "  <thead>\n",
       "    <tr style=\"text-align: right;\">\n",
       "      <th></th>\n",
       "      <th>age</th>\n",
       "      <th>workclass</th>\n",
       "      <th>fnlwgt</th>\n",
       "      <th>education</th>\n",
       "      <th>education-num</th>\n",
       "      <th>marital-status</th>\n",
       "      <th>occupation</th>\n",
       "      <th>relationship</th>\n",
       "      <th>race</th>\n",
       "      <th>sex</th>\n",
       "      <th>capital-gain</th>\n",
       "      <th>capital-loss</th>\n",
       "      <th>hours-per-week</th>\n",
       "      <th>native-country</th>\n",
       "      <th>class</th>\n",
       "    </tr>\n",
       "  </thead>\n",
       "  <tbody>\n",
       "    <tr>\n",
       "      <th>0</th>\n",
       "      <td>25</td>\n",
       "      <td>Private</td>\n",
       "      <td>178478</td>\n",
       "      <td>Bachelors</td>\n",
       "      <td>13</td>\n",
       "      <td>Never-married</td>\n",
       "      <td>Tech-support</td>\n",
       "      <td>Own-child</td>\n",
       "      <td>White</td>\n",
       "      <td>Female</td>\n",
       "      <td>0</td>\n",
       "      <td>0</td>\n",
       "      <td>40</td>\n",
       "      <td>United-States</td>\n",
       "      <td>&lt;=50K</td>\n",
       "    </tr>\n",
       "    <tr>\n",
       "      <th>1</th>\n",
       "      <td>23</td>\n",
       "      <td>State-gov</td>\n",
       "      <td>61743</td>\n",
       "      <td>5th-6th</td>\n",
       "      <td>3</td>\n",
       "      <td>Never-married</td>\n",
       "      <td>Transport-moving</td>\n",
       "      <td>Not-in-family</td>\n",
       "      <td>White</td>\n",
       "      <td>Male</td>\n",
       "      <td>0</td>\n",
       "      <td>0</td>\n",
       "      <td>35</td>\n",
       "      <td>United-States</td>\n",
       "      <td>&lt;=50K</td>\n",
       "    </tr>\n",
       "    <tr>\n",
       "      <th>2</th>\n",
       "      <td>46</td>\n",
       "      <td>Private</td>\n",
       "      <td>376789</td>\n",
       "      <td>HS-grad</td>\n",
       "      <td>9</td>\n",
       "      <td>Never-married</td>\n",
       "      <td>Other-service</td>\n",
       "      <td>Not-in-family</td>\n",
       "      <td>White</td>\n",
       "      <td>Male</td>\n",
       "      <td>0</td>\n",
       "      <td>0</td>\n",
       "      <td>15</td>\n",
       "      <td>United-States</td>\n",
       "      <td>&lt;=50K</td>\n",
       "    </tr>\n",
       "    <tr>\n",
       "      <th>3</th>\n",
       "      <td>55</td>\n",
       "      <td>?</td>\n",
       "      <td>200235</td>\n",
       "      <td>HS-grad</td>\n",
       "      <td>9</td>\n",
       "      <td>Married-civ-spouse</td>\n",
       "      <td>?</td>\n",
       "      <td>Husband</td>\n",
       "      <td>White</td>\n",
       "      <td>Male</td>\n",
       "      <td>0</td>\n",
       "      <td>0</td>\n",
       "      <td>50</td>\n",
       "      <td>United-States</td>\n",
       "      <td>&gt;50K</td>\n",
       "    </tr>\n",
       "    <tr>\n",
       "      <th>4</th>\n",
       "      <td>36</td>\n",
       "      <td>Private</td>\n",
       "      <td>224541</td>\n",
       "      <td>7th-8th</td>\n",
       "      <td>4</td>\n",
       "      <td>Married-civ-spouse</td>\n",
       "      <td>Handlers-cleaners</td>\n",
       "      <td>Husband</td>\n",
       "      <td>White</td>\n",
       "      <td>Male</td>\n",
       "      <td>0</td>\n",
       "      <td>0</td>\n",
       "      <td>40</td>\n",
       "      <td>El-Salvador</td>\n",
       "      <td>&lt;=50K</td>\n",
       "    </tr>\n",
       "  </tbody>\n",
       "</table>\n",
       "</div>"
      ],
      "text/plain": [
       "   age   workclass  fnlwgt   education  education-num       marital-status  \\\n",
       "0   25     Private  178478   Bachelors             13        Never-married   \n",
       "1   23   State-gov   61743     5th-6th              3        Never-married   \n",
       "2   46     Private  376789     HS-grad              9        Never-married   \n",
       "3   55           ?  200235     HS-grad              9   Married-civ-spouse   \n",
       "4   36     Private  224541     7th-8th              4   Married-civ-spouse   \n",
       "\n",
       "           occupation    relationship    race      sex  capital-gain  \\\n",
       "0        Tech-support       Own-child   White   Female             0   \n",
       "1    Transport-moving   Not-in-family   White     Male             0   \n",
       "2       Other-service   Not-in-family   White     Male             0   \n",
       "3                   ?         Husband   White     Male             0   \n",
       "4   Handlers-cleaners         Husband   White     Male             0   \n",
       "\n",
       "   capital-loss  hours-per-week  native-country   class  \n",
       "0             0              40   United-States   <=50K  \n",
       "1             0              35   United-States   <=50K  \n",
       "2             0              15   United-States   <=50K  \n",
       "3             0              50   United-States    >50K  \n",
       "4             0              40     El-Salvador   <=50K  "
      ]
     },
     "execution_count": 4,
     "metadata": {},
     "output_type": "execute_result"
    }
   ],
   "source": [
    "train_data.head()"
   ]
  },
  {
   "cell_type": "markdown",
   "id": "ac8a2aae",
   "metadata": {},
   "source": [
    "## Train on the data with TabularPredictor\n",
    "\n",
    "Now we can fit on the data! Notice how we didn't have to do any preprocessing ourselves. AutoGluon automatically handles data cleaning, such as handling of string values, categoricals, dates, missing values, and more.\n",
    "\n",
    "For the purposes of the demo, we will be using a fairly basic training configuration. For best results, specify `presets='best_quality'` in `.fit`."
   ]
  },
  {
   "cell_type": "code",
   "execution_count": 5,
   "id": "d98bcce2",
   "metadata": {
    "scrolled": false
   },
   "outputs": [
    {
     "name": "stderr",
     "output_type": "stream",
     "text": [
      "No path specified. Models will be saved in: \"AutogluonModels/ag-20220204_111542/\"\n",
      "Beginning AutoGluon training ...\n",
      "AutoGluon will save models to \"AutogluonModels/ag-20220204_111542/\"\n",
      "AutoGluon Version:  0.3.1\n",
      "Train Data Rows:    39073\n",
      "Train Data Columns: 14\n",
      "Preprocessing data ...\n",
      "AutoGluon infers your prediction problem is: 'binary' (because only two unique label-values observed).\n",
      "\t2 unique label values:  [' <=50K', ' >50K']\n",
      "\tIf 'binary' is not the correct problem_type, please manually specify the problem_type argument in fit() (You may specify problem_type as one of: ['binary', 'multiclass', 'regression'])\n",
      "Selected class <--> label mapping:  class 1 =  >50K, class 0 =  <=50K\n",
      "\tNote: For your binary classification, AutoGluon arbitrarily selected which label-value represents positive ( >50K) vs negative ( <=50K) class.\n",
      "\tTo explicitly set the positive_class, either rename classes to 1 and 0, or specify positive_class in Predictor init.\n",
      "Using Feature Generators to preprocess the data ...\n",
      "Fitting AutoMLPipelineFeatureGenerator...\n",
      "\tAvailable Memory:                    2935.44 MB\n",
      "\tTrain Data (Original)  Memory Usage: 22.92 MB (0.8% of available memory)\n",
      "\tInferring data type of each feature based on column values. Set feature_metadata_in to manually specify special dtypes of the features.\n",
      "\tStage 1 Generators:\n",
      "\t\tFitting AsTypeFeatureGenerator...\n",
      "\t\t\tNote: Converting 1 features to boolean dtype as they only contain 2 unique values.\n",
      "\tStage 2 Generators:\n",
      "\t\tFitting FillNaFeatureGenerator...\n",
      "\tStage 3 Generators:\n",
      "\t\tFitting IdentityFeatureGenerator...\n",
      "\t\tFitting CategoryFeatureGenerator...\n",
      "\t\t\tFitting CategoryMemoryMinimizeFeatureGenerator...\n",
      "\tStage 4 Generators:\n",
      "\t\tFitting DropUniqueFeatureGenerator...\n",
      "\tTypes of features in original data (raw dtype, special dtypes):\n",
      "\t\t('int', [])    : 6 | ['age', 'fnlwgt', 'education-num', 'capital-gain', 'capital-loss', ...]\n",
      "\t\t('object', []) : 8 | ['workclass', 'education', 'marital-status', 'occupation', 'relationship', ...]\n",
      "\tTypes of features in processed data (raw dtype, special dtypes):\n",
      "\t\t('category', [])  : 7 | ['workclass', 'education', 'marital-status', 'occupation', 'relationship', ...]\n",
      "\t\t('int', [])       : 6 | ['age', 'fnlwgt', 'education-num', 'capital-gain', 'capital-loss', ...]\n",
      "\t\t('int', ['bool']) : 1 | ['sex']\n",
      "\t0.3s = Fit runtime\n",
      "\t14 features in original data used to generate 14 features in processed data.\n",
      "\tTrain Data (Processed) Memory Usage: 2.19 MB (0.1% of available memory)\n",
      "Data preprocessing and feature engineering runtime = 0.5s ...\n",
      "AutoGluon will gauge predictive performance using evaluation metric: 'accuracy'\n",
      "\tTo change this, specify the eval_metric argument of fit()\n",
      "Automatically generating train/validation split with holdout_frac=0.0639828014229775, Train Rows: 36573, Val Rows: 2500\n",
      "Excluded Model Types: ['NN', 'FASTAI']\n",
      "\tFound 'NN' model in hyperparameters, but 'NN' is present in `excluded_model_types` and will be removed.\n",
      "\tFound 'FASTAI' model in hyperparameters, but 'FASTAI' is present in `excluded_model_types` and will be removed.\n",
      "Fitting 11 L1 models ...\n",
      "Fitting model: KNeighborsUnif ...\n",
      "\t0.7752\t = Validation score   (accuracy)\n",
      "\t0.22s\t = Training   runtime\n",
      "\t0.16s\t = Validation runtime\n",
      "Fitting model: KNeighborsDist ...\n",
      "\t0.766\t = Validation score   (accuracy)\n",
      "\t0.22s\t = Training   runtime\n",
      "\t0.11s\t = Validation runtime\n",
      "Fitting model: LightGBMXT ...\n",
      "/home/ec2-user/anaconda3/envs/python3/lib/python3.6/site-packages/lightgbm/engine.py:239: UserWarning: 'verbose_eval' argument is deprecated and will be removed in a future release of LightGBM. Pass 'log_evaluation()' callback via 'callbacks' argument instead.\n",
      "  _log_warning(\"'verbose_eval' argument is deprecated and will be removed in a future release of LightGBM. \"\n",
      "\t0.8792\t = Validation score   (accuracy)\n",
      "\t3.99s\t = Training   runtime\n",
      "\t0.08s\t = Validation runtime\n",
      "Fitting model: LightGBM ...\n",
      "/home/ec2-user/anaconda3/envs/python3/lib/python3.6/site-packages/lightgbm/engine.py:239: UserWarning: 'verbose_eval' argument is deprecated and will be removed in a future release of LightGBM. Pass 'log_evaluation()' callback via 'callbacks' argument instead.\n",
      "  _log_warning(\"'verbose_eval' argument is deprecated and will be removed in a future release of LightGBM. \"\n",
      "\t0.88\t = Validation score   (accuracy)\n",
      "\t0.83s\t = Training   runtime\n",
      "\t0.03s\t = Validation runtime\n",
      "Fitting model: RandomForestGini ...\n",
      "\t0.864\t = Validation score   (accuracy)\n",
      "\t8.34s\t = Training   runtime\n",
      "\t0.21s\t = Validation runtime\n",
      "Fitting model: RandomForestEntr ...\n",
      "\t0.8608\t = Validation score   (accuracy)\n",
      "\t10.56s\t = Training   runtime\n",
      "\t0.21s\t = Validation runtime\n",
      "Fitting model: CatBoost ...\n",
      "\t0.882\t = Validation score   (accuracy)\n",
      "\t14.82s\t = Training   runtime\n",
      "\t0.02s\t = Validation runtime\n",
      "Fitting model: ExtraTreesGini ...\n",
      "\t0.8496\t = Validation score   (accuracy)\n",
      "\t5.04s\t = Training   runtime\n",
      "\t0.31s\t = Validation runtime\n",
      "Fitting model: ExtraTreesEntr ...\n",
      "\t0.8496\t = Validation score   (accuracy)\n",
      "\t5.45s\t = Training   runtime\n",
      "\t0.31s\t = Validation runtime\n",
      "Fitting model: XGBoost ...\n",
      "\t0.884\t = Validation score   (accuracy)\n",
      "\t1.73s\t = Training   runtime\n",
      "\t0.03s\t = Validation runtime\n",
      "Fitting model: LightGBMLarge ...\n",
      "/home/ec2-user/anaconda3/envs/python3/lib/python3.6/site-packages/lightgbm/engine.py:239: UserWarning: 'verbose_eval' argument is deprecated and will be removed in a future release of LightGBM. Pass 'log_evaluation()' callback via 'callbacks' argument instead.\n",
      "  _log_warning(\"'verbose_eval' argument is deprecated and will be removed in a future release of LightGBM. \"\n",
      "\t0.8784\t = Validation score   (accuracy)\n",
      "\t1.03s\t = Training   runtime\n",
      "\t0.03s\t = Validation runtime\n",
      "Fitting model: WeightedEnsemble_L2 ...\n",
      "\t0.8888\t = Validation score   (accuracy)\n",
      "\t1.28s\t = Training   runtime\n",
      "\t0.01s\t = Validation runtime\n",
      "AutoGluon training complete, total runtime = 62.5s ...\n",
      "TabularPredictor saved. To load, use: predictor = TabularPredictor.load(\"AutogluonModels/ag-20220204_111542/\")\n"
     ]
    },
    {
     "name": "stdout",
     "output_type": "stream",
     "text": [
      "CPU times: user 1min 38s, sys: 4.38 s, total: 1min 43s\n",
      "Wall time: 1min 2s\n"
     ]
    }
   ],
   "source": [
    "%%time\n",
    "# Note: We exclude the neural network models for a faster demo\n",
    "predictor = TabularPredictor(\n",
    "    label=label,\n",
    ").fit(\n",
    "    train_data,\n",
    "    excluded_model_types=['NN', 'FASTAI'],\n",
    ")"
   ]
  },
  {
   "cell_type": "code",
   "execution_count": 6,
   "id": "7460a343",
   "metadata": {},
   "outputs": [
    {
     "data": {
      "text/html": [
       "<div>\n",
       "<style scoped>\n",
       "    .dataframe tbody tr th:only-of-type {\n",
       "        vertical-align: middle;\n",
       "    }\n",
       "\n",
       "    .dataframe tbody tr th {\n",
       "        vertical-align: top;\n",
       "    }\n",
       "\n",
       "    .dataframe thead th {\n",
       "        text-align: right;\n",
       "    }\n",
       "</style>\n",
       "<table border=\"1\" class=\"dataframe\">\n",
       "  <thead>\n",
       "    <tr style=\"text-align: right;\">\n",
       "      <th></th>\n",
       "      <th>model</th>\n",
       "      <th>score_test</th>\n",
       "      <th>score_val</th>\n",
       "      <th>pred_time_test</th>\n",
       "      <th>pred_time_val</th>\n",
       "      <th>fit_time</th>\n",
       "      <th>pred_time_test_marginal</th>\n",
       "      <th>pred_time_val_marginal</th>\n",
       "      <th>fit_time_marginal</th>\n",
       "      <th>stack_level</th>\n",
       "      <th>can_infer</th>\n",
       "      <th>fit_order</th>\n",
       "    </tr>\n",
       "  </thead>\n",
       "  <tbody>\n",
       "    <tr>\n",
       "      <th>0</th>\n",
       "      <td>XGBoost</td>\n",
       "      <td>0.875627</td>\n",
       "      <td>0.8840</td>\n",
       "      <td>0.097504</td>\n",
       "      <td>0.026699</td>\n",
       "      <td>1.726374</td>\n",
       "      <td>0.097504</td>\n",
       "      <td>0.026699</td>\n",
       "      <td>1.726374</td>\n",
       "      <td>1</td>\n",
       "      <td>True</td>\n",
       "      <td>10</td>\n",
       "    </tr>\n",
       "    <tr>\n",
       "      <th>1</th>\n",
       "      <td>WeightedEnsemble_L2</td>\n",
       "      <td>0.875320</td>\n",
       "      <td>0.8888</td>\n",
       "      <td>0.450275</td>\n",
       "      <td>0.269010</td>\n",
       "      <td>7.225114</td>\n",
       "      <td>0.005166</td>\n",
       "      <td>0.005053</td>\n",
       "      <td>1.282624</td>\n",
       "      <td>2</td>\n",
       "      <td>True</td>\n",
       "      <td>12</td>\n",
       "    </tr>\n",
       "    <tr>\n",
       "      <th>2</th>\n",
       "      <td>CatBoost</td>\n",
       "      <td>0.874501</td>\n",
       "      <td>0.8820</td>\n",
       "      <td>0.031218</td>\n",
       "      <td>0.016850</td>\n",
       "      <td>14.819867</td>\n",
       "      <td>0.031218</td>\n",
       "      <td>0.016850</td>\n",
       "      <td>14.819867</td>\n",
       "      <td>1</td>\n",
       "      <td>True</td>\n",
       "      <td>7</td>\n",
       "    </tr>\n",
       "    <tr>\n",
       "      <th>3</th>\n",
       "      <td>LightGBM</td>\n",
       "      <td>0.873375</td>\n",
       "      <td>0.8800</td>\n",
       "      <td>0.068104</td>\n",
       "      <td>0.028920</td>\n",
       "      <td>0.831295</td>\n",
       "      <td>0.068104</td>\n",
       "      <td>0.028920</td>\n",
       "      <td>0.831295</td>\n",
       "      <td>1</td>\n",
       "      <td>True</td>\n",
       "      <td>4</td>\n",
       "    </tr>\n",
       "    <tr>\n",
       "      <th>4</th>\n",
       "      <td>LightGBMLarge</td>\n",
       "      <td>0.871430</td>\n",
       "      <td>0.8784</td>\n",
       "      <td>0.050828</td>\n",
       "      <td>0.025063</td>\n",
       "      <td>1.025842</td>\n",
       "      <td>0.050828</td>\n",
       "      <td>0.025063</td>\n",
       "      <td>1.025842</td>\n",
       "      <td>1</td>\n",
       "      <td>True</td>\n",
       "      <td>11</td>\n",
       "    </tr>\n",
       "    <tr>\n",
       "      <th>5</th>\n",
       "      <td>LightGBMXT</td>\n",
       "      <td>0.871430</td>\n",
       "      <td>0.8792</td>\n",
       "      <td>0.241088</td>\n",
       "      <td>0.080797</td>\n",
       "      <td>3.991288</td>\n",
       "      <td>0.241088</td>\n",
       "      <td>0.080797</td>\n",
       "      <td>3.991288</td>\n",
       "      <td>1</td>\n",
       "      <td>True</td>\n",
       "      <td>3</td>\n",
       "    </tr>\n",
       "    <tr>\n",
       "      <th>6</th>\n",
       "      <td>RandomForestGini</td>\n",
       "      <td>0.858532</td>\n",
       "      <td>0.8640</td>\n",
       "      <td>1.714712</td>\n",
       "      <td>0.211070</td>\n",
       "      <td>8.341174</td>\n",
       "      <td>1.714712</td>\n",
       "      <td>0.211070</td>\n",
       "      <td>8.341174</td>\n",
       "      <td>1</td>\n",
       "      <td>True</td>\n",
       "      <td>5</td>\n",
       "    </tr>\n",
       "    <tr>\n",
       "      <th>7</th>\n",
       "      <td>RandomForestEntr</td>\n",
       "      <td>0.858225</td>\n",
       "      <td>0.8608</td>\n",
       "      <td>1.211617</td>\n",
       "      <td>0.210793</td>\n",
       "      <td>10.558017</td>\n",
       "      <td>1.211617</td>\n",
       "      <td>0.210793</td>\n",
       "      <td>10.558017</td>\n",
       "      <td>1</td>\n",
       "      <td>True</td>\n",
       "      <td>6</td>\n",
       "    </tr>\n",
       "    <tr>\n",
       "      <th>8</th>\n",
       "      <td>ExtraTreesGini</td>\n",
       "      <td>0.851264</td>\n",
       "      <td>0.8496</td>\n",
       "      <td>0.826217</td>\n",
       "      <td>0.310919</td>\n",
       "      <td>5.042042</td>\n",
       "      <td>0.826217</td>\n",
       "      <td>0.310919</td>\n",
       "      <td>5.042042</td>\n",
       "      <td>1</td>\n",
       "      <td>True</td>\n",
       "      <td>8</td>\n",
       "    </tr>\n",
       "    <tr>\n",
       "      <th>9</th>\n",
       "      <td>ExtraTreesEntr</td>\n",
       "      <td>0.851059</td>\n",
       "      <td>0.8496</td>\n",
       "      <td>0.816798</td>\n",
       "      <td>0.311288</td>\n",
       "      <td>5.445294</td>\n",
       "      <td>0.816798</td>\n",
       "      <td>0.311288</td>\n",
       "      <td>5.445294</td>\n",
       "      <td>1</td>\n",
       "      <td>True</td>\n",
       "      <td>9</td>\n",
       "    </tr>\n",
       "    <tr>\n",
       "      <th>10</th>\n",
       "      <td>KNeighborsUnif</td>\n",
       "      <td>0.773365</td>\n",
       "      <td>0.7752</td>\n",
       "      <td>0.106517</td>\n",
       "      <td>0.156461</td>\n",
       "      <td>0.224828</td>\n",
       "      <td>0.106517</td>\n",
       "      <td>0.156461</td>\n",
       "      <td>0.224828</td>\n",
       "      <td>1</td>\n",
       "      <td>True</td>\n",
       "      <td>1</td>\n",
       "    </tr>\n",
       "    <tr>\n",
       "      <th>11</th>\n",
       "      <td>KNeighborsDist</td>\n",
       "      <td>0.762514</td>\n",
       "      <td>0.7660</td>\n",
       "      <td>0.107740</td>\n",
       "      <td>0.108291</td>\n",
       "      <td>0.218337</td>\n",
       "      <td>0.107740</td>\n",
       "      <td>0.108291</td>\n",
       "      <td>0.218337</td>\n",
       "      <td>1</td>\n",
       "      <td>True</td>\n",
       "      <td>2</td>\n",
       "    </tr>\n",
       "  </tbody>\n",
       "</table>\n",
       "</div>"
      ],
      "text/plain": [
       "                  model  score_test  score_val  pred_time_test  pred_time_val  \\\n",
       "0               XGBoost    0.875627     0.8840        0.097504       0.026699   \n",
       "1   WeightedEnsemble_L2    0.875320     0.8888        0.450275       0.269010   \n",
       "2              CatBoost    0.874501     0.8820        0.031218       0.016850   \n",
       "3              LightGBM    0.873375     0.8800        0.068104       0.028920   \n",
       "4         LightGBMLarge    0.871430     0.8784        0.050828       0.025063   \n",
       "5            LightGBMXT    0.871430     0.8792        0.241088       0.080797   \n",
       "6      RandomForestGini    0.858532     0.8640        1.714712       0.211070   \n",
       "7      RandomForestEntr    0.858225     0.8608        1.211617       0.210793   \n",
       "8        ExtraTreesGini    0.851264     0.8496        0.826217       0.310919   \n",
       "9        ExtraTreesEntr    0.851059     0.8496        0.816798       0.311288   \n",
       "10       KNeighborsUnif    0.773365     0.7752        0.106517       0.156461   \n",
       "11       KNeighborsDist    0.762514     0.7660        0.107740       0.108291   \n",
       "\n",
       "     fit_time  pred_time_test_marginal  pred_time_val_marginal  \\\n",
       "0    1.726374                 0.097504                0.026699   \n",
       "1    7.225114                 0.005166                0.005053   \n",
       "2   14.819867                 0.031218                0.016850   \n",
       "3    0.831295                 0.068104                0.028920   \n",
       "4    1.025842                 0.050828                0.025063   \n",
       "5    3.991288                 0.241088                0.080797   \n",
       "6    8.341174                 1.714712                0.211070   \n",
       "7   10.558017                 1.211617                0.210793   \n",
       "8    5.042042                 0.826217                0.310919   \n",
       "9    5.445294                 0.816798                0.311288   \n",
       "10   0.224828                 0.106517                0.156461   \n",
       "11   0.218337                 0.107740                0.108291   \n",
       "\n",
       "    fit_time_marginal  stack_level  can_infer  fit_order  \n",
       "0            1.726374            1       True         10  \n",
       "1            1.282624            2       True         12  \n",
       "2           14.819867            1       True          7  \n",
       "3            0.831295            1       True          4  \n",
       "4            1.025842            1       True         11  \n",
       "5            3.991288            1       True          3  \n",
       "6            8.341174            1       True          5  \n",
       "7           10.558017            1       True          6  \n",
       "8            5.042042            1       True          8  \n",
       "9            5.445294            1       True          9  \n",
       "10           0.224828            1       True          1  \n",
       "11           0.218337            1       True          2  "
      ]
     },
     "execution_count": 6,
     "metadata": {},
     "output_type": "execute_result"
    }
   ],
   "source": [
    "# Get model leaderboard\n",
    "predictor.leaderboard(test_data, silent=True)"
   ]
  },
  {
   "cell_type": "markdown",
   "id": "fdb224dc",
   "metadata": {},
   "source": [
    "## Local Prediction"
   ]
  },
  {
   "cell_type": "code",
   "execution_count": 7,
   "id": "cbc06f98",
   "metadata": {},
   "outputs": [
    {
     "data": {
      "text/plain": [
       "0        <=50K\n",
       "1        <=50K\n",
       "2         >50K\n",
       "3        <=50K\n",
       "4        <=50K\n",
       "         ...  \n",
       "9764     <=50K\n",
       "9765     <=50K\n",
       "9766     <=50K\n",
       "9767     <=50K\n",
       "9768     <=50K\n",
       "Name: class, Length: 9769, dtype: object"
      ]
     },
     "execution_count": 7,
     "metadata": {},
     "output_type": "execute_result"
    }
   ],
   "source": [
    "# Get class predictions\n",
    "predictor.predict(test_data)"
   ]
  },
  {
   "cell_type": "code",
   "execution_count": 8,
   "id": "54608d7a",
   "metadata": {},
   "outputs": [
    {
     "data": {
      "text/html": [
       "<div>\n",
       "<style scoped>\n",
       "    .dataframe tbody tr th:only-of-type {\n",
       "        vertical-align: middle;\n",
       "    }\n",
       "\n",
       "    .dataframe tbody tr th {\n",
       "        vertical-align: top;\n",
       "    }\n",
       "\n",
       "    .dataframe thead th {\n",
       "        text-align: right;\n",
       "    }\n",
       "</style>\n",
       "<table border=\"1\" class=\"dataframe\">\n",
       "  <thead>\n",
       "    <tr style=\"text-align: right;\">\n",
       "      <th></th>\n",
       "      <th>&lt;=50K</th>\n",
       "      <th>&gt;50K</th>\n",
       "    </tr>\n",
       "  </thead>\n",
       "  <tbody>\n",
       "    <tr>\n",
       "      <th>0</th>\n",
       "      <td>0.911898</td>\n",
       "      <td>0.088102</td>\n",
       "    </tr>\n",
       "    <tr>\n",
       "      <th>1</th>\n",
       "      <td>0.998610</td>\n",
       "      <td>0.001390</td>\n",
       "    </tr>\n",
       "    <tr>\n",
       "      <th>2</th>\n",
       "      <td>0.080540</td>\n",
       "      <td>0.919460</td>\n",
       "    </tr>\n",
       "    <tr>\n",
       "      <th>3</th>\n",
       "      <td>0.998625</td>\n",
       "      <td>0.001375</td>\n",
       "    </tr>\n",
       "    <tr>\n",
       "      <th>4</th>\n",
       "      <td>0.979027</td>\n",
       "      <td>0.020973</td>\n",
       "    </tr>\n",
       "    <tr>\n",
       "      <th>...</th>\n",
       "      <td>...</td>\n",
       "      <td>...</td>\n",
       "    </tr>\n",
       "    <tr>\n",
       "      <th>9764</th>\n",
       "      <td>0.980276</td>\n",
       "      <td>0.019724</td>\n",
       "    </tr>\n",
       "    <tr>\n",
       "      <th>9765</th>\n",
       "      <td>0.930274</td>\n",
       "      <td>0.069726</td>\n",
       "    </tr>\n",
       "    <tr>\n",
       "      <th>9766</th>\n",
       "      <td>0.849258</td>\n",
       "      <td>0.150742</td>\n",
       "    </tr>\n",
       "    <tr>\n",
       "      <th>9767</th>\n",
       "      <td>0.999579</td>\n",
       "      <td>0.000421</td>\n",
       "    </tr>\n",
       "    <tr>\n",
       "      <th>9768</th>\n",
       "      <td>0.674027</td>\n",
       "      <td>0.325973</td>\n",
       "    </tr>\n",
       "  </tbody>\n",
       "</table>\n",
       "<p>9769 rows × 2 columns</p>\n",
       "</div>"
      ],
      "text/plain": [
       "         <=50K      >50K\n",
       "0     0.911898  0.088102\n",
       "1     0.998610  0.001390\n",
       "2     0.080540  0.919460\n",
       "3     0.998625  0.001375\n",
       "4     0.979027  0.020973\n",
       "...        ...       ...\n",
       "9764  0.980276  0.019724\n",
       "9765  0.930274  0.069726\n",
       "9766  0.849258  0.150742\n",
       "9767  0.999579  0.000421\n",
       "9768  0.674027  0.325973\n",
       "\n",
       "[9769 rows x 2 columns]"
      ]
     },
     "execution_count": 8,
     "metadata": {},
     "output_type": "execute_result"
    }
   ],
   "source": [
    "# Get prediction probabilities\n",
    "predictor.predict_proba(test_data)"
   ]
  },
  {
   "cell_type": "markdown",
   "id": "c6a47e65",
   "metadata": {},
   "source": [
    "## Feature Importance"
   ]
  },
  {
   "cell_type": "code",
   "execution_count": 9,
   "id": "e9dd9c6d",
   "metadata": {},
   "outputs": [
    {
     "name": "stderr",
     "output_type": "stream",
     "text": [
      "Computing feature importance via permutation shuffling for 14 features using 9769 rows with 3 shuffle sets...\n",
      "\t21.58s\t= Expected runtime (7.19s per shuffle set)\n",
      "\t17.15s\t= Actual runtime (Completed 3 of 3 shuffle sets)\n"
     ]
    },
    {
     "data": {
      "text/html": [
       "<div>\n",
       "<style scoped>\n",
       "    .dataframe tbody tr th:only-of-type {\n",
       "        vertical-align: middle;\n",
       "    }\n",
       "\n",
       "    .dataframe tbody tr th {\n",
       "        vertical-align: top;\n",
       "    }\n",
       "\n",
       "    .dataframe thead th {\n",
       "        text-align: right;\n",
       "    }\n",
       "</style>\n",
       "<table border=\"1\" class=\"dataframe\">\n",
       "  <thead>\n",
       "    <tr style=\"text-align: right;\">\n",
       "      <th></th>\n",
       "      <th>importance</th>\n",
       "      <th>stddev</th>\n",
       "      <th>p_value</th>\n",
       "      <th>n</th>\n",
       "      <th>p99_high</th>\n",
       "      <th>p99_low</th>\n",
       "    </tr>\n",
       "  </thead>\n",
       "  <tbody>\n",
       "    <tr>\n",
       "      <th>capital-gain</th>\n",
       "      <td>4.688300e-02</td>\n",
       "      <td>0.000614</td>\n",
       "      <td>0.000029</td>\n",
       "      <td>3</td>\n",
       "      <td>0.050402</td>\n",
       "      <td>0.043364</td>\n",
       "    </tr>\n",
       "    <tr>\n",
       "      <th>marital-status</th>\n",
       "      <td>3.391681e-02</td>\n",
       "      <td>0.002255</td>\n",
       "      <td>0.000735</td>\n",
       "      <td>3</td>\n",
       "      <td>0.046839</td>\n",
       "      <td>0.020995</td>\n",
       "    </tr>\n",
       "    <tr>\n",
       "      <th>occupation</th>\n",
       "      <td>1.805030e-02</td>\n",
       "      <td>0.002824</td>\n",
       "      <td>0.004032</td>\n",
       "      <td>3</td>\n",
       "      <td>0.034235</td>\n",
       "      <td>0.001866</td>\n",
       "    </tr>\n",
       "    <tr>\n",
       "      <th>age</th>\n",
       "      <td>1.590064e-02</td>\n",
       "      <td>0.003532</td>\n",
       "      <td>0.008025</td>\n",
       "      <td>3</td>\n",
       "      <td>0.036138</td>\n",
       "      <td>-0.004336</td>\n",
       "    </tr>\n",
       "    <tr>\n",
       "      <th>capital-loss</th>\n",
       "      <td>1.368274e-02</td>\n",
       "      <td>0.001359</td>\n",
       "      <td>0.001637</td>\n",
       "      <td>3</td>\n",
       "      <td>0.021472</td>\n",
       "      <td>0.005894</td>\n",
       "    </tr>\n",
       "    <tr>\n",
       "      <th>education-num</th>\n",
       "      <td>1.262497e-02</td>\n",
       "      <td>0.000795</td>\n",
       "      <td>0.000660</td>\n",
       "      <td>3</td>\n",
       "      <td>0.017181</td>\n",
       "      <td>0.008069</td>\n",
       "    </tr>\n",
       "    <tr>\n",
       "      <th>hours-per-week</th>\n",
       "      <td>8.291534e-03</td>\n",
       "      <td>0.000570</td>\n",
       "      <td>0.000786</td>\n",
       "      <td>3</td>\n",
       "      <td>0.011557</td>\n",
       "      <td>0.005026</td>\n",
       "    </tr>\n",
       "    <tr>\n",
       "      <th>relationship</th>\n",
       "      <td>7.984441e-03</td>\n",
       "      <td>0.001154</td>\n",
       "      <td>0.003443</td>\n",
       "      <td>3</td>\n",
       "      <td>0.014595</td>\n",
       "      <td>0.001374</td>\n",
       "    </tr>\n",
       "    <tr>\n",
       "      <th>education</th>\n",
       "      <td>5.391203e-03</td>\n",
       "      <td>0.001434</td>\n",
       "      <td>0.011395</td>\n",
       "      <td>3</td>\n",
       "      <td>0.013610</td>\n",
       "      <td>-0.002828</td>\n",
       "    </tr>\n",
       "    <tr>\n",
       "      <th>workclass</th>\n",
       "      <td>3.275668e-03</td>\n",
       "      <td>0.001279</td>\n",
       "      <td>0.023607</td>\n",
       "      <td>3</td>\n",
       "      <td>0.010602</td>\n",
       "      <td>-0.004050</td>\n",
       "    </tr>\n",
       "    <tr>\n",
       "      <th>native-country</th>\n",
       "      <td>2.354386e-03</td>\n",
       "      <td>0.000177</td>\n",
       "      <td>0.000943</td>\n",
       "      <td>3</td>\n",
       "      <td>0.003370</td>\n",
       "      <td>0.001338</td>\n",
       "    </tr>\n",
       "    <tr>\n",
       "      <th>fnlwgt</th>\n",
       "      <td>1.364862e-03</td>\n",
       "      <td>0.000968</td>\n",
       "      <td>0.067258</td>\n",
       "      <td>3</td>\n",
       "      <td>0.006909</td>\n",
       "      <td>-0.004179</td>\n",
       "    </tr>\n",
       "    <tr>\n",
       "      <th>sex</th>\n",
       "      <td>3.700743e-17</td>\n",
       "      <td>0.000271</td>\n",
       "      <td>0.500000</td>\n",
       "      <td>3</td>\n",
       "      <td>0.001552</td>\n",
       "      <td>-0.001552</td>\n",
       "    </tr>\n",
       "    <tr>\n",
       "      <th>race</th>\n",
       "      <td>-3.412154e-05</td>\n",
       "      <td>0.000917</td>\n",
       "      <td>0.522751</td>\n",
       "      <td>3</td>\n",
       "      <td>0.005223</td>\n",
       "      <td>-0.005291</td>\n",
       "    </tr>\n",
       "  </tbody>\n",
       "</table>\n",
       "</div>"
      ],
      "text/plain": [
       "                  importance    stddev   p_value  n  p99_high   p99_low\n",
       "capital-gain    4.688300e-02  0.000614  0.000029  3  0.050402  0.043364\n",
       "marital-status  3.391681e-02  0.002255  0.000735  3  0.046839  0.020995\n",
       "occupation      1.805030e-02  0.002824  0.004032  3  0.034235  0.001866\n",
       "age             1.590064e-02  0.003532  0.008025  3  0.036138 -0.004336\n",
       "capital-loss    1.368274e-02  0.001359  0.001637  3  0.021472  0.005894\n",
       "education-num   1.262497e-02  0.000795  0.000660  3  0.017181  0.008069\n",
       "hours-per-week  8.291534e-03  0.000570  0.000786  3  0.011557  0.005026\n",
       "relationship    7.984441e-03  0.001154  0.003443  3  0.014595  0.001374\n",
       "education       5.391203e-03  0.001434  0.011395  3  0.013610 -0.002828\n",
       "workclass       3.275668e-03  0.001279  0.023607  3  0.010602 -0.004050\n",
       "native-country  2.354386e-03  0.000177  0.000943  3  0.003370  0.001338\n",
       "fnlwgt          1.364862e-03  0.000968  0.067258  3  0.006909 -0.004179\n",
       "sex             3.700743e-17  0.000271  0.500000  3  0.001552 -0.001552\n",
       "race           -3.412154e-05  0.000917  0.522751  3  0.005223 -0.005291"
      ]
     },
     "execution_count": 9,
     "metadata": {},
     "output_type": "execute_result"
    }
   ],
   "source": [
    "# Get feature importance\n",
    "predictor.feature_importance(test_data, subsample_size=None)"
   ]
  },
  {
   "cell_type": "markdown",
   "id": "d3d0fd75",
   "metadata": {},
   "source": [
    "# Cloud Endpoint Deployment with AWS SageMaker"
   ]
  },
  {
   "cell_type": "markdown",
   "id": "eceec079",
   "metadata": {},
   "source": [
    "## Upload the local predictor to SageMaker\n",
    "\n",
    "We will zip the model directory into a tar file so it can be uploaded to S3.  \n",
    "Before zipping the model, we first minimize the size of the predictor by deleting any unnecessary models:"
   ]
  },
  {
   "cell_type": "code",
   "execution_count": 10,
   "id": "476cfea5",
   "metadata": {},
   "outputs": [
    {
     "name": "stderr",
     "output_type": "stream",
     "text": [
      "Deleting model KNeighborsDist. All files under AutogluonModels/ag-20220204_111542/models/KNeighborsDist/ will be removed.\n",
      "Deleting model LightGBM. All files under AutogluonModels/ag-20220204_111542/models/LightGBM/ will be removed.\n",
      "Deleting model RandomForestGini. All files under AutogluonModels/ag-20220204_111542/models/RandomForestGini/ will be removed.\n",
      "Deleting model RandomForestEntr. All files under AutogluonModels/ag-20220204_111542/models/RandomForestEntr/ will be removed.\n",
      "Deleting model CatBoost. All files under AutogluonModels/ag-20220204_111542/models/CatBoost/ will be removed.\n",
      "Deleting model ExtraTreesGini. All files under AutogluonModels/ag-20220204_111542/models/ExtraTreesGini/ will be removed.\n",
      "Deleting model ExtraTreesEntr. All files under AutogluonModels/ag-20220204_111542/models/ExtraTreesEntr/ will be removed.\n",
      "Deleting model LightGBMLarge. All files under AutogluonModels/ag-20220204_111542/models/LightGBMLarge/ will be removed.\n"
     ]
    }
   ],
   "source": [
    "predictor.delete_models(models_to_keep='best', dry_run=False)\n",
    "predictor.save_space()"
   ]
  },
  {
   "cell_type": "code",
   "execution_count": 11,
   "id": "243ca39a",
   "metadata": {},
   "outputs": [],
   "source": [
    "import tarfile\n",
    "import os.path\n",
    "\n",
    "def make_tarfile(output_filename, source_dir):\n",
    "    with tarfile.open(output_filename, \"w:gz\") as tar:\n",
    "        tar.add(source_dir, arcname=os.path.basename(source_dir))"
   ]
  },
  {
   "cell_type": "code",
   "execution_count": 12,
   "id": "aa63a31b",
   "metadata": {},
   "outputs": [],
   "source": [
    "make_tarfile('model.tar.gz', predictor.path)"
   ]
  },
  {
   "cell_type": "markdown",
   "id": "6526cd7c",
   "metadata": {},
   "source": [
    "Next we will import several helper classes and functions that integrate the APIs of AutoGluon with SageMaker.  \n",
    "The source code is maintained by AWS and is [available on GitHub](https://github.com/aws/amazon-sagemaker-examples/tree/master/advanced_functionality/autogluon-tabular-containers)."
   ]
  },
  {
   "cell_type": "code",
   "execution_count": 13,
   "id": "55388cf8",
   "metadata": {},
   "outputs": [],
   "source": [
    "import sagemaker\n",
    "import pandas as pd\n",
    "import numpy as np\n",
    "from sagemaker.serializers import CSVSerializer\n",
    "import os\n",
    "\n",
    "from ag_model import (\n",
    "    AutoGluonTraining,\n",
    "    AutoGluonInferenceModel,\n",
    "    AutoGluonTabularPredictor,\n",
    ")"
   ]
  },
  {
   "cell_type": "markdown",
   "id": "2528afe8",
   "metadata": {},
   "source": [
    "Create a sagemaker session"
   ]
  },
  {
   "cell_type": "code",
   "execution_count": 14,
   "id": "81ac3aab",
   "metadata": {},
   "outputs": [],
   "source": [
    "sagemaker_session = sagemaker.session.Session()"
   ]
  },
  {
   "cell_type": "markdown",
   "id": "9e2ff723",
   "metadata": {},
   "source": [
    "Upload the zipped AutoGluon model to S3 "
   ]
  },
  {
   "cell_type": "code",
   "execution_count": 15,
   "id": "f3e791ee",
   "metadata": {},
   "outputs": [
    {
     "data": {
      "text/plain": [
       "'s3://sagemaker-us-west-2-328296961357/sagemaker-autogluon-serving-trained-model-1643973435-c53e/models/model.tar.gz'"
      ]
     },
     "execution_count": 15,
     "metadata": {},
     "output_type": "execute_result"
    }
   ],
   "source": [
    "endpoint_name = sagemaker.utils.unique_name_from_base(\"sagemaker-autogluon-serving-trained-model\")\n",
    "model_data = sagemaker_session.upload_data(path='model.tar.gz', key_prefix=f'{endpoint_name}/models')\n",
    "model_data"
   ]
  },
  {
   "cell_type": "markdown",
   "id": "68ecf7d6",
   "metadata": {},
   "source": [
    "## Create a SageMaker Endpoint"
   ]
  },
  {
   "cell_type": "markdown",
   "id": "b9e107a4",
   "metadata": {},
   "source": [
    "Here we specify the AWS region, the instance type we want to use as the endpoint, and the version of AutoGluon to use on the endpoint.  \n",
    "It is important to use the same version of AutoGluon on the endpoint as was used during fit."
   ]
  },
  {
   "cell_type": "code",
   "execution_count": 16,
   "id": "496ab137",
   "metadata": {},
   "outputs": [
    {
     "name": "stdout",
     "output_type": "stream",
     "text": [
      "Region: us-west-2, Instance Type: ml.m5.2xlarge, Framework Version: 0.3.1\n"
     ]
    }
   ],
   "source": [
    "import autogluon.core\n",
    "\n",
    "region = sagemaker_session._region_name\n",
    "instance_type = \"ml.m5.2xlarge\"\n",
    "framework_version = autogluon.core.__version__\n",
    "print(f'Region: {region}, Instance Type: {instance_type}, Framework Version: {framework_version}')"
   ]
  },
  {
   "cell_type": "markdown",
   "id": "4271f352",
   "metadata": {},
   "source": [
    "The below cell is necessary for supporting KMS and VPC.\n",
    "\n",
    "Refer to https://github.com/gradientsky/ag-vpc-setup/blob/master/lib/ag-vpc-stack.ts#L88-L90 for more details."
   ]
  },
  {
   "cell_type": "code",
   "execution_count": 17,
   "id": "a6b99447",
   "metadata": {},
   "outputs": [
    {
     "data": {
      "text/plain": [
       "{'SecurityGroupIds': ['sg-0cea39349566bacc6'],\n",
       " 'Subnets': ['subnet-078524620ffc22d15', 'subnet-08b67c5fac3f0b048']}"
      ]
     },
     "execution_count": 17,
     "metadata": {},
     "output_type": "execute_result"
    }
   ],
   "source": [
    "#specify vpc_config (optional)\n",
    "vpc_config = {\n",
    "    # security groups need to be configured to communicate\n",
    "    # with each other for distributed training job\n",
    "    \"SecurityGroupIds\": [\"sg-0cea39349566bacc6\"],\n",
    "    \"Subnets\": [\"subnet-078524620ffc22d15\", \"subnet-08b67c5fac3f0b048\"]\n",
    "}\n",
    "vpc_config"
   ]
  },
  {
   "cell_type": "markdown",
   "id": "7b29c372",
   "metadata": {},
   "source": [
    "Create the cloud model that will be used by endpoints. This will function identically to the local predictor."
   ]
  },
  {
   "cell_type": "code",
   "execution_count": 18,
   "id": "3d3e5b9d",
   "metadata": {},
   "outputs": [],
   "source": [
    "model = AutoGluonInferenceModel(\n",
    "    model_data=model_data,\n",
    "    role=sagemaker.get_execution_role(),\n",
    "    region=region,\n",
    "    framework_version=framework_version,\n",
    "    instance_type=instance_type,\n",
    "    source_dir=\"scripts\",\n",
    "    entry_point=\"tabular_serve.py\",\n",
    "#    vpc_config=vpc_config,\n",
    ")"
   ]
  },
  {
   "cell_type": "markdown",
   "id": "62ef9f5a",
   "metadata": {},
   "source": [
    "Deploy the model to a cloud endpoint. This will take a few minutes for the instance to initialize."
   ]
  },
  {
   "cell_type": "code",
   "execution_count": 19,
   "id": "d992708e",
   "metadata": {},
   "outputs": [
    {
     "name": "stderr",
     "output_type": "stream",
     "text": [
      "Creating model with name: autogluon-inference-2022-02-04-11-17-19-961\n",
      "Creating endpoint-config with name autogluon-inference-2022-02-04-11-17-20-250\n",
      "Creating endpoint with name autogluon-inference-2022-02-04-11-17-20-250\n"
     ]
    },
    {
     "name": "stdout",
     "output_type": "stream",
     "text": [
      "------!"
     ]
    }
   ],
   "source": [
    "predictor_endpoint = model.deploy(\n",
    "    initial_instance_count=1,\n",
    "    serializer=CSVSerializer(),\n",
    "    instance_type=instance_type,\n",
    "#    kms_key=kms_key,\n",
    ")"
   ]
  },
  {
   "cell_type": "markdown",
   "id": "57cc3baa",
   "metadata": {},
   "source": [
    "Now we have a cloud endpoint deployed and ready to predict on data! "
   ]
  },
  {
   "cell_type": "code",
   "execution_count": 20,
   "id": "2537a1b0",
   "metadata": {},
   "outputs": [
    {
     "data": {
      "text/html": [
       "<div>\n",
       "<style scoped>\n",
       "    .dataframe tbody tr th:only-of-type {\n",
       "        vertical-align: middle;\n",
       "    }\n",
       "\n",
       "    .dataframe tbody tr th {\n",
       "        vertical-align: top;\n",
       "    }\n",
       "\n",
       "    .dataframe thead th {\n",
       "        text-align: right;\n",
       "    }\n",
       "</style>\n",
       "<table border=\"1\" class=\"dataframe\">\n",
       "  <thead>\n",
       "    <tr style=\"text-align: right;\">\n",
       "      <th></th>\n",
       "      <th>age</th>\n",
       "      <th>workclass</th>\n",
       "      <th>fnlwgt</th>\n",
       "      <th>education</th>\n",
       "      <th>education-num</th>\n",
       "      <th>marital-status</th>\n",
       "      <th>occupation</th>\n",
       "      <th>relationship</th>\n",
       "      <th>race</th>\n",
       "      <th>sex</th>\n",
       "      <th>capital-gain</th>\n",
       "      <th>capital-loss</th>\n",
       "      <th>hours-per-week</th>\n",
       "      <th>native-country</th>\n",
       "      <th>class</th>\n",
       "    </tr>\n",
       "  </thead>\n",
       "  <tbody>\n",
       "    <tr>\n",
       "      <th>0</th>\n",
       "      <td>31</td>\n",
       "      <td>Private</td>\n",
       "      <td>169085</td>\n",
       "      <td>11th</td>\n",
       "      <td>7</td>\n",
       "      <td>Married-civ-spouse</td>\n",
       "      <td>Sales</td>\n",
       "      <td>Wife</td>\n",
       "      <td>White</td>\n",
       "      <td>Female</td>\n",
       "      <td>0</td>\n",
       "      <td>0</td>\n",
       "      <td>20</td>\n",
       "      <td>United-States</td>\n",
       "      <td>&lt;=50K</td>\n",
       "    </tr>\n",
       "    <tr>\n",
       "      <th>1</th>\n",
       "      <td>17</td>\n",
       "      <td>Self-emp-not-inc</td>\n",
       "      <td>226203</td>\n",
       "      <td>12th</td>\n",
       "      <td>8</td>\n",
       "      <td>Never-married</td>\n",
       "      <td>Sales</td>\n",
       "      <td>Own-child</td>\n",
       "      <td>White</td>\n",
       "      <td>Male</td>\n",
       "      <td>0</td>\n",
       "      <td>0</td>\n",
       "      <td>45</td>\n",
       "      <td>United-States</td>\n",
       "      <td>&lt;=50K</td>\n",
       "    </tr>\n",
       "    <tr>\n",
       "      <th>2</th>\n",
       "      <td>47</td>\n",
       "      <td>Private</td>\n",
       "      <td>54260</td>\n",
       "      <td>Assoc-voc</td>\n",
       "      <td>11</td>\n",
       "      <td>Married-civ-spouse</td>\n",
       "      <td>Exec-managerial</td>\n",
       "      <td>Husband</td>\n",
       "      <td>White</td>\n",
       "      <td>Male</td>\n",
       "      <td>0</td>\n",
       "      <td>1887</td>\n",
       "      <td>60</td>\n",
       "      <td>United-States</td>\n",
       "      <td>&gt;50K</td>\n",
       "    </tr>\n",
       "    <tr>\n",
       "      <th>3</th>\n",
       "      <td>21</td>\n",
       "      <td>Private</td>\n",
       "      <td>176262</td>\n",
       "      <td>Some-college</td>\n",
       "      <td>10</td>\n",
       "      <td>Never-married</td>\n",
       "      <td>Exec-managerial</td>\n",
       "      <td>Own-child</td>\n",
       "      <td>White</td>\n",
       "      <td>Female</td>\n",
       "      <td>0</td>\n",
       "      <td>0</td>\n",
       "      <td>30</td>\n",
       "      <td>United-States</td>\n",
       "      <td>&lt;=50K</td>\n",
       "    </tr>\n",
       "    <tr>\n",
       "      <th>4</th>\n",
       "      <td>17</td>\n",
       "      <td>Private</td>\n",
       "      <td>241185</td>\n",
       "      <td>12th</td>\n",
       "      <td>8</td>\n",
       "      <td>Never-married</td>\n",
       "      <td>Prof-specialty</td>\n",
       "      <td>Own-child</td>\n",
       "      <td>White</td>\n",
       "      <td>Male</td>\n",
       "      <td>0</td>\n",
       "      <td>0</td>\n",
       "      <td>20</td>\n",
       "      <td>United-States</td>\n",
       "      <td>&lt;=50K</td>\n",
       "    </tr>\n",
       "  </tbody>\n",
       "</table>\n",
       "</div>"
      ],
      "text/plain": [
       "   age          workclass  fnlwgt      education  education-num  \\\n",
       "0   31            Private  169085           11th              7   \n",
       "1   17   Self-emp-not-inc  226203           12th              8   \n",
       "2   47            Private   54260      Assoc-voc             11   \n",
       "3   21            Private  176262   Some-college             10   \n",
       "4   17            Private  241185           12th              8   \n",
       "\n",
       "        marital-status        occupation relationship    race      sex  \\\n",
       "0   Married-civ-spouse             Sales         Wife   White   Female   \n",
       "1        Never-married             Sales    Own-child   White     Male   \n",
       "2   Married-civ-spouse   Exec-managerial      Husband   White     Male   \n",
       "3        Never-married   Exec-managerial    Own-child   White   Female   \n",
       "4        Never-married    Prof-specialty    Own-child   White     Male   \n",
       "\n",
       "   capital-gain  capital-loss  hours-per-week  native-country   class  \n",
       "0             0             0              20   United-States   <=50K  \n",
       "1             0             0              45   United-States   <=50K  \n",
       "2             0          1887              60   United-States    >50K  \n",
       "3             0             0              30   United-States   <=50K  \n",
       "4             0             0              20   United-States   <=50K  "
      ]
     },
     "execution_count": 20,
     "metadata": {},
     "output_type": "execute_result"
    }
   ],
   "source": [
    "test_data.head()"
   ]
  },
  {
   "cell_type": "markdown",
   "id": "738af901",
   "metadata": {},
   "source": [
    "## Cloud Prediction\n",
    "\n",
    "SageMaker requires a slightly different input format compared to local AutoGluon.  \n",
    "We first need to drop the label column and convert to numpy before calling predict."
   ]
  },
  {
   "cell_type": "code",
   "execution_count": 21,
   "id": "be1e023e",
   "metadata": {},
   "outputs": [],
   "source": [
    "test_data_endpoint = test_data.drop(columns=label).values\n",
    "y_pred_endpoint = predictor_endpoint.predict(test_data_endpoint)"
   ]
  },
  {
   "cell_type": "code",
   "execution_count": 22,
   "id": "dfad1072",
   "metadata": {
    "scrolled": true
   },
   "outputs": [
    {
     "data": {
      "text/plain": [
       "[[' <=50K', 0.9118983745574951, 0.08810162544250488],\n",
       " [' <=50K', 0.9986099004745483, 0.0013900835765525699],\n",
       " [' >50K', 0.08054006099700928, 0.9194599390029907],\n",
       " [' <=50K', 0.9986252784729004, 0.0013747334014624357],\n",
       " [' <=50K', 0.9790266156196594, 0.020973367616534233],\n",
       " [' >50K', 0.20037841796875, 0.79962158203125],\n",
       " [' >50K', 0.0017440319061279297, 0.9982559680938721],\n",
       " [' <=50K', 0.6143794059753418, 0.3856205940246582],\n",
       " [' <=50K', 0.9954660534858704, 0.004533917643129826],\n",
       " [' <=50K', 0.8534858226776123, 0.14651420712471008]]"
      ]
     },
     "execution_count": 22,
     "metadata": {},
     "output_type": "execute_result"
    }
   ],
   "source": [
    "y_pred_endpoint[:10]"
   ]
  },
  {
   "cell_type": "markdown",
   "id": "56eeec02",
   "metadata": {},
   "source": [
    "The predictions returned by the endpoint contain both predictions and prediction probabilities.  \n",
    "We can convert this result into the same format that the local predictor would return:"
   ]
  },
  {
   "cell_type": "code",
   "execution_count": 23,
   "id": "5dd2f85a",
   "metadata": {},
   "outputs": [],
   "source": [
    "y_pred = pd.Series([p[0] for p in y_pred_endpoint], index=test_data.index, name=label)\n",
    "y_pred_proba = pd.DataFrame([[p[1], p[2]] for p in y_pred_endpoint], columns=predictor.class_labels)"
   ]
  },
  {
   "cell_type": "code",
   "execution_count": 24,
   "id": "3ab50241",
   "metadata": {},
   "outputs": [
    {
     "data": {
      "text/plain": [
       "0        <=50K\n",
       "1        <=50K\n",
       "2         >50K\n",
       "3        <=50K\n",
       "4        <=50K\n",
       "         ...  \n",
       "9764     <=50K\n",
       "9765     <=50K\n",
       "9766     <=50K\n",
       "9767     <=50K\n",
       "9768     <=50K\n",
       "Name: class, Length: 9769, dtype: object"
      ]
     },
     "execution_count": 24,
     "metadata": {},
     "output_type": "execute_result"
    }
   ],
   "source": [
    "y_pred"
   ]
  },
  {
   "cell_type": "code",
   "execution_count": 25,
   "id": "2e663cb2",
   "metadata": {},
   "outputs": [
    {
     "data": {
      "text/html": [
       "<div>\n",
       "<style scoped>\n",
       "    .dataframe tbody tr th:only-of-type {\n",
       "        vertical-align: middle;\n",
       "    }\n",
       "\n",
       "    .dataframe tbody tr th {\n",
       "        vertical-align: top;\n",
       "    }\n",
       "\n",
       "    .dataframe thead th {\n",
       "        text-align: right;\n",
       "    }\n",
       "</style>\n",
       "<table border=\"1\" class=\"dataframe\">\n",
       "  <thead>\n",
       "    <tr style=\"text-align: right;\">\n",
       "      <th></th>\n",
       "      <th>&lt;=50K</th>\n",
       "      <th>&gt;50K</th>\n",
       "    </tr>\n",
       "  </thead>\n",
       "  <tbody>\n",
       "    <tr>\n",
       "      <th>0</th>\n",
       "      <td>0.911898</td>\n",
       "      <td>0.088102</td>\n",
       "    </tr>\n",
       "    <tr>\n",
       "      <th>1</th>\n",
       "      <td>0.998610</td>\n",
       "      <td>0.001390</td>\n",
       "    </tr>\n",
       "    <tr>\n",
       "      <th>2</th>\n",
       "      <td>0.080540</td>\n",
       "      <td>0.919460</td>\n",
       "    </tr>\n",
       "    <tr>\n",
       "      <th>3</th>\n",
       "      <td>0.998625</td>\n",
       "      <td>0.001375</td>\n",
       "    </tr>\n",
       "    <tr>\n",
       "      <th>4</th>\n",
       "      <td>0.979027</td>\n",
       "      <td>0.020973</td>\n",
       "    </tr>\n",
       "    <tr>\n",
       "      <th>...</th>\n",
       "      <td>...</td>\n",
       "      <td>...</td>\n",
       "    </tr>\n",
       "    <tr>\n",
       "      <th>9764</th>\n",
       "      <td>0.980276</td>\n",
       "      <td>0.019724</td>\n",
       "    </tr>\n",
       "    <tr>\n",
       "      <th>9765</th>\n",
       "      <td>0.930274</td>\n",
       "      <td>0.069726</td>\n",
       "    </tr>\n",
       "    <tr>\n",
       "      <th>9766</th>\n",
       "      <td>0.849258</td>\n",
       "      <td>0.150742</td>\n",
       "    </tr>\n",
       "    <tr>\n",
       "      <th>9767</th>\n",
       "      <td>0.999579</td>\n",
       "      <td>0.000421</td>\n",
       "    </tr>\n",
       "    <tr>\n",
       "      <th>9768</th>\n",
       "      <td>0.674027</td>\n",
       "      <td>0.325973</td>\n",
       "    </tr>\n",
       "  </tbody>\n",
       "</table>\n",
       "<p>9769 rows × 2 columns</p>\n",
       "</div>"
      ],
      "text/plain": [
       "         <=50K      >50K\n",
       "0     0.911898  0.088102\n",
       "1     0.998610  0.001390\n",
       "2     0.080540  0.919460\n",
       "3     0.998625  0.001375\n",
       "4     0.979027  0.020973\n",
       "...        ...       ...\n",
       "9764  0.980276  0.019724\n",
       "9765  0.930274  0.069726\n",
       "9766  0.849258  0.150742\n",
       "9767  0.999579  0.000421\n",
       "9768  0.674027  0.325973\n",
       "\n",
       "[9769 rows x 2 columns]"
      ]
     },
     "execution_count": 25,
     "metadata": {},
     "output_type": "execute_result"
    }
   ],
   "source": [
    "y_pred_proba"
   ]
  },
  {
   "cell_type": "markdown",
   "id": "73e5ec10",
   "metadata": {},
   "source": [
    "# Cloud Training & Batch Inference\n",
    "\n",
    "Please refer to our comprehensive [AutoGluon Cloud Tutorial](https://github.com/aws/amazon-sagemaker-examples/blob/master/advanced_functionality/autogluon-tabular-containers/AutoGluon_Tabular_SageMaker_Containers.ipynb) including Cloud Training and Batch Inference."
   ]
  },
  {
   "cell_type": "markdown",
   "id": "b1a72059",
   "metadata": {},
   "source": [
    "# Cleanup\n",
    "\n",
    "Delete the endpoint (shutting down the instance) when you are done to avoid being charged for the idle instance."
   ]
  },
  {
   "cell_type": "code",
   "execution_count": 26,
   "id": "da1c1070",
   "metadata": {},
   "outputs": [],
   "source": [
    "predictor_endpoint.delete_endpoint()"
   ]
  },
  {
   "cell_type": "markdown",
   "id": "40b5fa14",
   "metadata": {},
   "source": [
    "# Next Steps\n",
    "\n",
    "Like what you saw? Check out the [AutoGluon Website](https://auto.gluon.ai/stable/index.html) for more tutorials!"
   ]
  }
 ],
 "metadata": {
  "kernelspec": {
   "display_name": "conda_python3",
   "language": "python",
   "name": "conda_python3"
  },
  "language_info": {
   "codemirror_mode": {
    "name": "ipython",
    "version": 3
   },
   "file_extension": ".py",
   "mimetype": "text/x-python",
   "name": "python",
   "nbconvert_exporter": "python",
   "pygments_lexer": "ipython3",
   "version": "3.6.13"
  }
 },
 "nbformat": 4,
 "nbformat_minor": 5
}
